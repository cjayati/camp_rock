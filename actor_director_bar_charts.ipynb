{
 "cells": [
  {
   "cell_type": "code",
   "execution_count": 31,
   "id": "371b871d",
   "metadata": {},
   "outputs": [],
   "source": [
    "#%matplotlib notebook"
   ]
  },
  {
   "cell_type": "code",
   "execution_count": 32,
   "id": "24aab656",
   "metadata": {},
   "outputs": [],
   "source": [
    "# Dependencies\n",
    "import matplotlib.pyplot as plt\n",
    "import numpy as np\n",
    "import pandas as pd"
   ]
  },
  {
   "cell_type": "code",
   "execution_count": 33,
   "id": "994e949f",
   "metadata": {},
   "outputs": [
    {
     "data": {
      "text/html": [
       "<div>\n",
       "<style scoped>\n",
       "    .dataframe tbody tr th:only-of-type {\n",
       "        vertical-align: middle;\n",
       "    }\n",
       "\n",
       "    .dataframe tbody tr th {\n",
       "        vertical-align: top;\n",
       "    }\n",
       "\n",
       "    .dataframe thead th {\n",
       "        text-align: right;\n",
       "    }\n",
       "</style>\n",
       "<table border=\"1\" class=\"dataframe\">\n",
       "  <thead>\n",
       "    <tr style=\"text-align: right;\">\n",
       "      <th></th>\n",
       "      <th>imdb_title_id</th>\n",
       "      <th>original_title</th>\n",
       "      <th>year</th>\n",
       "      <th>date_published</th>\n",
       "      <th>genre 1</th>\n",
       "      <th>genre 2</th>\n",
       "      <th>genre 3</th>\n",
       "      <th>duration</th>\n",
       "      <th>country</th>\n",
       "      <th>language_1</th>\n",
       "      <th>...</th>\n",
       "      <th>desc35</th>\n",
       "      <th>avg_vote</th>\n",
       "      <th>votes</th>\n",
       "      <th>Budget - Inflation Adjusted</th>\n",
       "      <th>budget</th>\n",
       "      <th>USA Gross Income - Inflation Adjusted</th>\n",
       "      <th>usa_gross_income</th>\n",
       "      <th>WW Gross Income - Inflation Adjusted</th>\n",
       "      <th>worlwide_gross_income</th>\n",
       "      <th>reviews_from_users</th>\n",
       "    </tr>\n",
       "  </thead>\n",
       "  <tbody>\n",
       "    <tr>\n",
       "      <th>0</th>\n",
       "      <td>tt0035423</td>\n",
       "      <td>Kate &amp; Leopold</td>\n",
       "      <td>2001.0</td>\n",
       "      <td>1/3/02</td>\n",
       "      <td>Comedy</td>\n",
       "      <td>Fantasy</td>\n",
       "      <td>Romance</td>\n",
       "      <td>118.0</td>\n",
       "      <td>USA</td>\n",
       "      <td>English</td>\n",
       "      <td>...</td>\n",
       "      <td>An English Duke from 1876 is inadvertedly</td>\n",
       "      <td>6.4</td>\n",
       "      <td>77852.0</td>\n",
       "      <td>$70,146,403.16</td>\n",
       "      <td>$48,000,000.00</td>\n",
       "      <td>$68,863,102.48</td>\n",
       "      <td>$47,121,859.00</td>\n",
       "      <td>$111,092,974.77</td>\n",
       "      <td>$76,019,048.00</td>\n",
       "      <td>341.0</td>\n",
       "    </tr>\n",
       "    <tr>\n",
       "      <th>1</th>\n",
       "      <td>tt0118589</td>\n",
       "      <td>Glitter</td>\n",
       "      <td>2001.0</td>\n",
       "      <td>30/11/2001</td>\n",
       "      <td>Drama</td>\n",
       "      <td>Music</td>\n",
       "      <td>Romance</td>\n",
       "      <td>104.0</td>\n",
       "      <td>USA</td>\n",
       "      <td>English</td>\n",
       "      <td>...</td>\n",
       "      <td>A young singer dates a disc jockey</td>\n",
       "      <td>2.2</td>\n",
       "      <td>21298.0</td>\n",
       "      <td>$32,150,434.78</td>\n",
       "      <td>$22,000,000.00</td>\n",
       "      <td>$6,246,547.43</td>\n",
       "      <td>$4,274,407.00</td>\n",
       "      <td>$7,703,925.18</td>\n",
       "      <td>$5,271,666.00</td>\n",
       "      <td>319.0</td>\n",
       "    </tr>\n",
       "    <tr>\n",
       "      <th>2</th>\n",
       "      <td>tt0120630</td>\n",
       "      <td>Chicken Run</td>\n",
       "      <td>2000.0</td>\n",
       "      <td>15/12/2000</td>\n",
       "      <td>Animation</td>\n",
       "      <td>Adventure</td>\n",
       "      <td>Comedy</td>\n",
       "      <td>84.0</td>\n",
       "      <td>UK, USA, France</td>\n",
       "      <td>English</td>\n",
       "      <td>...</td>\n",
       "      <td>When a cockerel apparently flies</td>\n",
       "      <td>7.0</td>\n",
       "      <td>173987.0</td>\n",
       "      <td>$67,633,536.59</td>\n",
       "      <td>$45,000,000.00</td>\n",
       "      <td>$160,568,875.40</td>\n",
       "      <td>$106,834,564.00</td>\n",
       "      <td>$337,919,038.00</td>\n",
       "      <td>$224,834,564.00</td>\n",
       "      <td>393.0</td>\n",
       "    </tr>\n",
       "    <tr>\n",
       "      <th>3</th>\n",
       "      <td>tt0120667</td>\n",
       "      <td>Fantastic Four</td>\n",
       "      <td>2005.0</td>\n",
       "      <td>16/09/2005</td>\n",
       "      <td>Action</td>\n",
       "      <td>Adventure</td>\n",
       "      <td>Fantasy</td>\n",
       "      <td>106.0</td>\n",
       "      <td>USA, Germany</td>\n",
       "      <td>English</td>\n",
       "      <td>...</td>\n",
       "      <td>A group of astronauts gain superpowers</td>\n",
       "      <td>5.7</td>\n",
       "      <td>307944.0</td>\n",
       "      <td>$132,519,713.26</td>\n",
       "      <td>$100,000,000.00</td>\n",
       "      <td>$205,002,801.64</td>\n",
       "      <td>$154,696,080.00</td>\n",
       "      <td>$442,000,863.36</td>\n",
       "      <td>$333,535,934.00</td>\n",
       "      <td>1029.0</td>\n",
       "    </tr>\n",
       "    <tr>\n",
       "      <th>4</th>\n",
       "      <td>tt0247196</td>\n",
       "      <td>Before Night Falls</td>\n",
       "      <td>2000.0</td>\n",
       "      <td>10/11/01</td>\n",
       "      <td>Biography</td>\n",
       "      <td>Drama</td>\n",
       "      <td>Romance</td>\n",
       "      <td>133.0</td>\n",
       "      <td>USA, Mexico</td>\n",
       "      <td>English</td>\n",
       "      <td>...</td>\n",
       "      <td>The life of Cuban poet and novelist,</td>\n",
       "      <td>7.2</td>\n",
       "      <td>23666.0</td>\n",
       "      <td>NaN</td>\n",
       "      <td>NaN</td>\n",
       "      <td>NaN</td>\n",
       "      <td>4242892</td>\n",
       "      <td>NaN</td>\n",
       "      <td>8601053</td>\n",
       "      <td>138.0</td>\n",
       "    </tr>\n",
       "  </tbody>\n",
       "</table>\n",
       "<p>5 rows × 28 columns</p>\n",
       "</div>"
      ],
      "text/plain": [
       "  imdb_title_id      original_title    year date_published    genre 1  \\\n",
       "0     tt0035423      Kate & Leopold  2001.0         1/3/02     Comedy   \n",
       "1     tt0118589             Glitter  2001.0     30/11/2001      Drama   \n",
       "2     tt0120630         Chicken Run  2000.0     15/12/2000  Animation   \n",
       "3     tt0120667      Fantastic Four  2005.0     16/09/2005     Action   \n",
       "4     tt0247196  Before Night Falls  2000.0       10/11/01  Biography   \n",
       "\n",
       "      genre 2   genre 3  duration          country language_1  ...  \\\n",
       "0     Fantasy   Romance     118.0              USA    English  ...   \n",
       "1       Music   Romance     104.0              USA    English  ...   \n",
       "2   Adventure    Comedy      84.0  UK, USA, France    English  ...   \n",
       "3   Adventure   Fantasy     106.0     USA, Germany    English  ...   \n",
       "4       Drama   Romance     133.0      USA, Mexico    English  ...   \n",
       "\n",
       "                                      desc35 avg_vote     votes  \\\n",
       "0  An English Duke from 1876 is inadvertedly      6.4   77852.0   \n",
       "1         A young singer dates a disc jockey      2.2   21298.0   \n",
       "2           When a cockerel apparently flies      7.0  173987.0   \n",
       "3     A group of astronauts gain superpowers      5.7  307944.0   \n",
       "4       The life of Cuban poet and novelist,      7.2   23666.0   \n",
       "\n",
       "  Budget - Inflation Adjusted            budget   \\\n",
       "0             $70,146,403.16     $48,000,000.00    \n",
       "1             $32,150,434.78     $22,000,000.00    \n",
       "2             $67,633,536.59     $45,000,000.00    \n",
       "3            $132,519,713.26    $100,000,000.00    \n",
       "4                         NaN                NaN   \n",
       "\n",
       "   USA Gross Income - Inflation Adjusted   usa_gross_income   \\\n",
       "0                         $68,863,102.48     $47,121,859.00    \n",
       "1                          $6,246,547.43      $4,274,407.00    \n",
       "2                        $160,568,875.40    $106,834,564.00    \n",
       "3                        $205,002,801.64    $154,696,080.00    \n",
       "4                                     NaN            4242892   \n",
       "\n",
       "   WW Gross Income - Inflation Adjusted   worlwide_gross_income   \\\n",
       "0                       $111,092,974.77          $76,019,048.00    \n",
       "1                         $7,703,925.18           $5,271,666.00    \n",
       "2                       $337,919,038.00         $224,834,564.00    \n",
       "3                       $442,000,863.36         $333,535,934.00    \n",
       "4                                    NaN                 8601053   \n",
       "\n",
       "   reviews_from_users  \n",
       "0               341.0  \n",
       "1               319.0  \n",
       "2               393.0  \n",
       "3              1029.0  \n",
       "4               138.0  \n",
       "\n",
       "[5 rows x 28 columns]"
      ]
     },
     "execution_count": 33,
     "metadata": {},
     "output_type": "execute_result"
    }
   ],
   "source": [
    "# Load in csv\n",
    "inflation_df= pd.read_csv('IMDB Movies-inflation-Mar22.csv')\n",
    "inflation_df.head()\n",
    "#inflation_df.columns"
   ]
  },
  {
   "cell_type": "code",
   "execution_count": 36,
   "id": "d77898bb",
   "metadata": {},
   "outputs": [
    {
     "data": {
      "text/plain": [
       "Index(['imdb_title_id', 'original_title', 'year', 'date_published', 'genre 1',\n",
       "       'genre 2', 'genre 3', 'duration', 'country', 'language_1', 'language_2',\n",
       "       'language_3', 'director', 'writer', 'actors', 'actors_1', 'actors_f2',\n",
       "       'description', 'desc35', 'avg_vote', 'votes',\n",
       "       'Budget - Inflation Adjusted', ' budget ',\n",
       "       ' USA Gross Income - Inflation Adjusted ', ' usa_gross_income ',\n",
       "       ' WW Gross Income - Inflation Adjusted ', ' worlwide_gross_income ',\n",
       "       'reviews_from_users'],\n",
       "      dtype='object')"
      ]
     },
     "execution_count": 36,
     "metadata": {},
     "output_type": "execute_result"
    }
   ],
   "source": [
    "inflation_df.columns"
   ]
  },
  {
   "cell_type": "code",
   "execution_count": 37,
   "id": "2183e030",
   "metadata": {},
   "outputs": [],
   "source": [
    "inflation_df[\" USA Gross Income - Inflation Adjusted \"] = inflation_df[\" USA Gross Income - Inflation Adjusted \"].replace('[\\$,]', '', regex=True).astype(float)"
   ]
  },
  {
   "cell_type": "code",
   "execution_count": null,
   "id": "d97bef25",
   "metadata": {},
   "outputs": [],
   "source": []
  },
  {
   "cell_type": "code",
   "execution_count": 38,
   "id": "253319bf",
   "metadata": {},
   "outputs": [
    {
     "data": {
      "text/html": [
       "<div>\n",
       "<style scoped>\n",
       "    .dataframe tbody tr th:only-of-type {\n",
       "        vertical-align: middle;\n",
       "    }\n",
       "\n",
       "    .dataframe tbody tr th {\n",
       "        vertical-align: top;\n",
       "    }\n",
       "\n",
       "    .dataframe thead th {\n",
       "        text-align: right;\n",
       "    }\n",
       "</style>\n",
       "<table border=\"1\" class=\"dataframe\">\n",
       "  <thead>\n",
       "    <tr style=\"text-align: right;\">\n",
       "      <th></th>\n",
       "      <th>actors_1</th>\n",
       "      <th>director</th>\n",
       "      <th>original_title</th>\n",
       "      <th>USA Gross Income - Inflation Adjusted</th>\n",
       "    </tr>\n",
       "  </thead>\n",
       "  <tbody>\n",
       "    <tr>\n",
       "      <th>0</th>\n",
       "      <td>Meg Ryan</td>\n",
       "      <td>James Mangold</td>\n",
       "      <td>Kate &amp; Leopold</td>\n",
       "      <td>6.886310e+07</td>\n",
       "    </tr>\n",
       "    <tr>\n",
       "      <th>1</th>\n",
       "      <td>Mariah Carey</td>\n",
       "      <td>Vondie Curtis-Hall</td>\n",
       "      <td>Glitter</td>\n",
       "      <td>6.246547e+06</td>\n",
       "    </tr>\n",
       "    <tr>\n",
       "      <th>2</th>\n",
       "      <td>Phil Daniels</td>\n",
       "      <td>Peter Lord, Nick Park</td>\n",
       "      <td>Chicken Run</td>\n",
       "      <td>1.605689e+08</td>\n",
       "    </tr>\n",
       "    <tr>\n",
       "      <th>3</th>\n",
       "      <td>Ioan Gruffudd</td>\n",
       "      <td>Tim Story</td>\n",
       "      <td>Fantastic Four</td>\n",
       "      <td>2.050028e+08</td>\n",
       "    </tr>\n",
       "    <tr>\n",
       "      <th>4</th>\n",
       "      <td>Olatz L√≥pez Garmendia</td>\n",
       "      <td>Julian Schnabel</td>\n",
       "      <td>Before Night Falls</td>\n",
       "      <td>NaN</td>\n",
       "    </tr>\n",
       "  </tbody>\n",
       "</table>\n",
       "</div>"
      ],
      "text/plain": [
       "                 actors_1               director      original_title  \\\n",
       "0                Meg Ryan          James Mangold      Kate & Leopold   \n",
       "1            Mariah Carey     Vondie Curtis-Hall             Glitter   \n",
       "2            Phil Daniels  Peter Lord, Nick Park         Chicken Run   \n",
       "3           Ioan Gruffudd              Tim Story      Fantastic Four   \n",
       "4  Olatz L√≥pez Garmendia        Julian Schnabel  Before Night Falls   \n",
       "\n",
       "    USA Gross Income - Inflation Adjusted   \n",
       "0                             6.886310e+07  \n",
       "1                             6.246547e+06  \n",
       "2                             1.605689e+08  \n",
       "3                             2.050028e+08  \n",
       "4                                      NaN  "
      ]
     },
     "execution_count": 38,
     "metadata": {},
     "output_type": "execute_result"
    }
   ],
   "source": [
    "actor_director_df = inflation_df[[\"actors_1\", \"director\", \"original_title\", \" USA Gross Income - Inflation Adjusted \"]]\n",
    "actor_director_df.head()"
   ]
  },
  {
   "cell_type": "code",
   "execution_count": null,
   "id": "f41f265a",
   "metadata": {},
   "outputs": [],
   "source": []
  },
  {
   "cell_type": "code",
   "execution_count": 48,
   "id": "eb2351f7",
   "metadata": {},
   "outputs": [
    {
     "data": {
      "text/plain": [
       "actors_1\n",
       "Robert Downey Jr.      4.701903e+09\n",
       "Johnny Depp            3.661996e+09\n",
       "Will Smith             2.972164e+09\n",
       "Adam Sandler           2.839811e+09\n",
       "Tom Cruise             2.654136e+09\n",
       "Dwayne Johnson         2.461782e+09\n",
       "Tom Hanks              2.339149e+09\n",
       "Hugh Jackman           2.298166e+09\n",
       "Sandra Bullock         2.169103e+09\n",
       "Mark Wahlberg          2.162697e+09\n",
       "Mike Myers             2.131017e+09\n",
       "Christian Bale         2.077815e+09\n",
       "Will Ferrell           2.041936e+09\n",
       "Chris Pratt            2.025725e+09\n",
       "Ben Stiller            2.012873e+09\n",
       "Vin Diesel             2.010390e+09\n",
       "Jim Carrey             1.953671e+09\n",
       "Steve Carell           1.948581e+09\n",
       "Matt Damon             1.883419e+09\n",
       "Ben Affleck            1.874857e+09\n",
       "Leonardo DiCaprio      1.856897e+09\n",
       "Denzel Washington      1.753004e+09\n",
       "Nicolas Cage           1.632175e+09\n",
       "Shia LaBeouf           1.626744e+09\n",
       "Harrison Ford          1.572968e+09\n",
       "Tobey Maguire          1.554573e+09\n",
       "Robert De Niro         1.471808e+09\n",
       "Daniel Radcliffe       1.459929e+09\n",
       "Daniel Craig           1.438645e+09\n",
       "George Clooney         1.437039e+09\n",
       "Jennifer Lawrence      1.427987e+09\n",
       "Bradley Cooper         1.413053e+09\n",
       "Bruce Willis           1.393341e+09\n",
       "Owen Wilson            1.379918e+09\n",
       "Ryan Reynolds          1.340160e+09\n",
       "Ewan McGregor          1.291637e+09\n",
       "Sam Worthington        1.287072e+09\n",
       "Brad Pitt              1.280719e+09\n",
       "Kristen Stewart        1.182177e+09\n",
       "Matthew McConaughey    1.137909e+09\n",
       "Jack Black             1.117746e+09\n",
       "Russell Crowe          1.116738e+09\n",
       "Chris Hemsworth        1.067117e+09\n",
       "Kristen Bell           1.042916e+09\n",
       "Reese Witherspoon      1.030070e+09\n",
       "Chris Evans            1.026149e+09\n",
       "James McAvoy           1.011422e+09\n",
       "Craig T. Nelson        9.854523e+08\n",
       "Antonio Banderas       9.771229e+08\n",
       "Ian McKellen           9.751062e+08\n",
       "Name:  USA Gross Income - Inflation Adjusted , dtype: float64"
      ]
     },
     "execution_count": 48,
     "metadata": {},
     "output_type": "execute_result"
    }
   ],
   "source": [
    "top_actors = actor_director_df.groupby(by=\"actors_1\")\n",
    "top_actors.head()\n",
    "sorted_top_actors = top_actors[\" USA Gross Income - Inflation Adjusted \"].sum().sort_values(ascending = False)\n",
    "sorted_top_actors.head(50)\n",
    "#print (top_actors[\" USA Gross Income - Inflation Adjusted \"].dtype)"
   ]
  },
  {
   "cell_type": "code",
   "execution_count": 49,
   "id": "d5a04f7a",
   "metadata": {},
   "outputs": [
    {
     "data": {
      "text/plain": [
       "actors_1\n",
       "Mark Hamill          6.548212e+08\n",
       "Albert Brooks        5.356871e+08\n",
       "Noel Appleby         5.314711e+08\n",
       "Ellen DeGeneres      5.243957e+08\n",
       "Carrie Fisher        5.215585e+08\n",
       "Craig T. Nelson      4.927262e+08\n",
       "Richard Harris       4.648480e+08\n",
       "Alan Howard          4.611319e+08\n",
       "Stanley Tucci        4.599321e+08\n",
       "Gal Gadot            4.356068e+08\n",
       "Chris Pratt          4.051450e+08\n",
       "Louis C.K.           3.972464e+08\n",
       "Ray Anthony          3.960602e+08\n",
       "Neel Sethi           3.925198e+08\n",
       "Eric Sykes           3.848610e+08\n",
       "Robert Downey Jr.    3.616848e+08\n",
       "Xavier Samuel        3.567016e+08\n",
       "Mike Myers           3.551696e+08\n",
       "Edward Asner         3.534714e+08\n",
       "Paul Sanchez         3.511415e+08\n",
       "Jaeden Martell       3.471954e+08\n",
       "Tobey Maguire        3.109147e+08\n",
       "Felicity Jones       2.996252e+08\n",
       "Bruce Allpress       2.719589e+08\n",
       "Ben Burtt            2.690349e+08\n",
       "Auli'i Cravalho      2.682466e+08\n",
       "Kelly Macdonald      2.674787e+08\n",
       "Sam Neill            2.647616e+08\n",
       "Harrison Ford        2.621614e+08\n",
       "Sam Worthington      2.574145e+08\n",
       "Tom Holland          2.571552e+08\n",
       "Georgie Henley       2.552358e+08\n",
       "Ray Romano           2.522601e+08\n",
       "Taye Diggs           2.455576e+08\n",
       "Scott Adsit          2.432780e+08\n",
       "Eunice Cho           2.371406e+08\n",
       "Carmen Electra       2.359956e+08\n",
       "Shia LaBeouf         2.323920e+08\n",
       "Dan Castellaneta     2.285951e+08\n",
       "Rami Malek           2.233154e+08\n",
       "Lady Gaga            2.218940e+08\n",
       "Anthony Gonzalez     2.214401e+08\n",
       "Daveigh Chase        2.097453e+08\n",
       "Daniel Radcliffe     2.085613e+08\n",
       "Alfre Woodard        2.070309e+08\n",
       "Ginnifer Goodwin     2.064660e+08\n",
       "Zachary Levi         2.035199e+08\n",
       "Fionn Whitehead      2.003385e+08\n",
       "Shameik Moore        1.960779e+08\n",
       "Mary Alice           1.959564e+08\n",
       "Name:  USA Gross Income - Inflation Adjusted , dtype: float64"
      ]
     },
     "execution_count": 49,
     "metadata": {},
     "output_type": "execute_result"
    }
   ],
   "source": [
    "top_actors = actor_director_df.groupby(by=\"actors_1\")\n",
    "top_actors.head()\n",
    "sorted_top_actors_mean = top_actors[\" USA Gross Income - Inflation Adjusted \"].mean().sort_values(ascending = False)\n",
    "sorted_top_actors_mean.head(50)"
   ]
  },
  {
   "cell_type": "code",
   "execution_count": 55,
   "id": "be1f960a",
   "metadata": {},
   "outputs": [
    {
     "data": {
      "image/png": "[encoded data removed]",
      "text/plain": [
       "<Figure size 432x288 with 1 Axes>"
      ]
     },
     "metadata": {
      "needs_background": "light"
     },
     "output_type": "display_data"
    }
   ],
   "source": [
    "x_axis = sorted_top_actors.index[:10]\n",
    "y_axis = sorted_top_actors.values[:10]\n",
    "plt.xticks(rotation=90)\n",
    "plt.bar(x_axis, y_axis)\n",
    "plt.xlabel(\"Top 10 Actors\")\n",
    "plt.ylabel(\"Gross Income Inflation Adjusted\")\n",
    "plt.title(\"Top 10 Actors vs. Gross Income Inflation Adjusted\")\n",
    "plt.show()"
   ]
  },
  {
   "cell_type": "code",
   "execution_count": 56,
   "id": "f2f6fced",
   "metadata": {},
   "outputs": [
    {
     "data": {
      "image/png": "[encoded data removed]",
      "text/plain": [
       "<Figure size 432x288 with 1 Axes>"
      ]
     },
     "metadata": {
      "needs_background": "light"
     },
     "output_type": "display_data"
    }
   ],
   "source": [
    "x_axis = sorted_top_actors_mean.index[:10]\n",
    "y_axis = sorted_top_actors_mean.values[:10]\n",
    "plt.xticks(rotation=90)\n",
    "plt.bar(x_axis, y_axis)\n",
    "plt.xlabel(\"Top 10 Actors\")\n",
    "plt.ylabel(\"Mean Gross Income Inflation Adjusted\")\n",
    "plt.title(\"Top 10 Actors vs. Mean Gross Income Inflation Adjusted\")\n",
    "plt.show()"
   ]
  },
  {
   "cell_type": "code",
   "execution_count": 41,
   "id": "646e0ace",
   "metadata": {},
   "outputs": [
    {
     "data": {
      "text/plain": [
       "director\n",
       "Peter Jackson               2.735140e+09\n",
       "J.J. Abrams                 2.427629e+09\n",
       "Anthony Russo, Joe Russo    2.390225e+09\n",
       "Christopher Nolan           2.379280e+09\n",
       "Michael Bay                 2.339791e+09\n",
       "Steven Spielberg            2.156648e+09\n",
       "Jon Favreau                 2.139051e+09\n",
       "Gore Verbinski              1.909288e+09\n",
       "Sam Raimi                   1.847295e+09\n",
       "Ridley Scott                1.728089e+09\n",
       "David Yates                 1.721851e+09\n",
       "Francis Lawrence            1.684585e+09\n",
       "Bryan Singer                1.614581e+09\n",
       "Todd Phillips               1.610400e+09\n",
       "Ron Howard                  1.593001e+09\n",
       "Clint Eastwood              1.583054e+09\n",
       "Zack Snyder                 1.510305e+09\n",
       "Tim Burton                  1.449067e+09\n",
       "Shawn Levy                  1.411908e+09\n",
       "Bill Condon                 1.372930e+09\n",
       "Name:  USA Gross Income - Inflation Adjusted , dtype: float64"
      ]
     },
     "execution_count": 41,
     "metadata": {},
     "output_type": "execute_result"
    }
   ],
   "source": [
    "top_directors = actor_director_df.groupby(by=\"director\")\n",
    "top_directors.head()\n",
    "sorted_top_directors = top_directors[\" USA Gross Income - Inflation Adjusted \"].sum().sort_values(ascending = False)\n",
    "sorted_top_directors.head(20)\n",
    "#print (top_actors[\" USA Gross Income - Inflation Adjusted \"].dtype)"
   ]
  },
  {
   "cell_type": "code",
   "execution_count": 54,
   "id": "f4e9eda9",
   "metadata": {},
   "outputs": [
    {
     "data": {
      "text/plain": [
       "director\n",
       "James Cameron                     9.174536e+08\n",
       "Andrew Adamson, Kelly Asbury      6.045220e+08\n",
       "Andrew Stanton, Lee Unkrich       5.356871e+08\n",
       "Andrew Stanton, Angus MacLane     5.243957e+08\n",
       "Lee Unkrich                       4.925699e+08\n",
       "George Lucas                      4.754424e+08\n",
       "Chris Buck, Jennifer Lee          4.642378e+08\n",
       "Josh Cooley                       4.393927e+08\n",
       "Pete Docter, David Silverman      4.236788e+08\n",
       "Joss Whedon                       4.125690e+08\n",
       "J.J. Abrams                       4.046048e+08\n",
       "Chris Miller, Raman Hui           4.028295e+08\n",
       "Anthony Russo, Joe Russo          3.983708e+08\n",
       "Chris Renaud, Yarrow Cheney       3.972464e+08\n",
       "Andrew Adamson, Vicky Jenson      3.911612e+08\n",
       "Pete Docter, Ronnie Del Carmen    3.897411e+08\n",
       "Byron Howard, Rich Moore          3.680058e+08\n",
       "Pierre Coffin, Chris Renaud       3.537181e+08\n",
       "Pete Docter, Bob Peterson         3.534714e+08\n",
       "Peter Jackson                     3.418925e+08\n",
       "Name:  USA Gross Income - Inflation Adjusted , dtype: float64"
      ]
     },
     "execution_count": 54,
     "metadata": {},
     "output_type": "execute_result"
    }
   ],
   "source": [
    "top_directors = actor_director_df.groupby(by=\"director\")\n",
    "top_directors.head()\n",
    "sorted_top_directors_mean = top_directors[\" USA Gross Income - Inflation Adjusted \"].mean().sort_values(ascending = False)\n",
    "sorted_top_directors_mean.head(20)"
   ]
  },
  {
   "cell_type": "code",
   "execution_count": 57,
   "id": "03750e63",
   "metadata": {},
   "outputs": [
    {
     "data": {
      "image/png": "[encoded data removed]",
      "text/plain": [
       "<Figure size 432x288 with 1 Axes>"
      ]
     },
     "metadata": {
      "needs_background": "light"
     },
     "output_type": "display_data"
    }
   ],
   "source": [
    "x_axis = sorted_top_directors.index[:10]\n",
    "y_axis = sorted_top_directors.values[:10]\n",
    "plt.xticks(rotation=90)\n",
    "plt.bar(x_axis, y_axis)\n",
    "plt.xlabel(\"Top 10 Directors\")\n",
    "plt.ylabel(\"Gross Income Inflation Adjusted\")\n",
    "plt.title(\"Top 10 Directors vs. Gross Income Inflation Adjusted\")\n",
    "plt.show()"
   ]
  },
  {
   "cell_type": "code",
   "execution_count": 58,
   "id": "98e640c6",
   "metadata": {},
   "outputs": [
    {
     "data": {
      "image/png": "[encoded data removed]",
      "text/plain": [
       "<Figure size 432x288 with 1 Axes>"
      ]
     },
     "metadata": {
      "needs_background": "light"
     },
     "output_type": "display_data"
    }
   ],
   "source": [
    "x_axis = sorted_top_directors_mean.index[:10]\n",
    "y_axis = sorted_top_directors_mean.values[:10]\n",
    "plt.xticks(rotation=90)\n",
    "plt.bar(x_axis, y_axis)\n",
    "plt.xlabel(\"Top 10 Directors\")\n",
    "plt.ylabel(\"Mean Gross Income Inflation Adjusted\")\n",
    "plt.title(\"Top 10 Directors vs. Mean Gross Income Inflation Adjusted\")\n",
    "plt.show()"
   ]
  },
  {
   "cell_type": "code",
   "execution_count": 43,
   "id": "1cb76dd0",
   "metadata": {},
   "outputs": [
    {
     "data": {
      "text/plain": [
       "original_title\n",
       "Star Wars: Episode VII - The Force Awakens                1.022789e+09\n",
       "Avatar                                                    9.174536e+08\n",
       "Avengers: Endgame                                         8.689626e+08\n",
       "Black Panther                                             7.219158e+08\n",
       "Jurassic World                                            7.122477e+08\n",
       "The Avengers                                              7.026834e+08\n",
       "Avengers: Infinity War                                    6.996416e+08\n",
       "Star Wars: Episode VIII - The Last Jedi                   6.548212e+08\n",
       "The Dark Knight                                           6.433931e+08\n",
       "Incredibles 2                                             6.272531e+08\n",
       "Shrek 2                                                   6.045220e+08\n",
       "Spider-Man                                                5.855586e+08\n",
       "Rogue One                                                 5.738722e+08\n",
       "The Lion King                                             5.503448e+08\n",
       "Pirates of the Caribbean: Dead Man's Chest                5.434464e+08\n",
       "Finding Nemo                                              5.356871e+08\n",
       "Beauty and the Beast                                      5.326586e+08\n",
       "The Lord of the Rings: The Return of the King             5.314711e+08\n",
       "Finding Dory                                              5.243957e+08\n",
       "Star Wars: Episode IX - The Rise of Skywalker             5.215585e+08\n",
       "Spider-Man 2                                              5.118482e+08\n",
       "The Passion of the Christ                                 5.080079e+08\n",
       "The Dark Knight Rises                                     5.051671e+08\n",
       "Star Wars: Episode III - Revenge of the Sith              5.039335e+08\n",
       "Avengers: Age of Ultron                                   5.012120e+08\n",
       "The Lord of the Rings: The Two Towers                     4.928075e+08\n",
       "Toy Story 3                                               4.925699e+08\n",
       "Transformers: Revenge of the Fallen                       4.850957e+08\n",
       "Frozen II                                                 4.832629e+08\n",
       "The Hunger Games: Catching Fire                           4.717985e+08\n",
       "Harry Potter and the Sorcerer's Stone                     4.648480e+08\n",
       "The Lord of the Rings: The Fellowship of the Ring         4.611319e+08\n",
       "The Hunger Games                                          4.599321e+08\n",
       "Iron Man Three                                            4.544071e+08\n",
       "Star Wars: Episode II - Attack of the Clones              4.469514e+08\n",
       "Frozen                                                    4.452127e+08\n",
       "Captain America: Civil War                                4.400568e+08\n",
       "Toy Story 4                                               4.393927e+08\n",
       "Harry Potter and the Deathly Hallows: Part 2              4.388431e+08\n",
       "Wonder Woman                                              4.356068e+08\n",
       "Captain Marvel                                            4.320956e+08\n",
       "Jurassic World: Fallen Kingdom                            4.305355e+08\n",
       "Pirates of the Caribbean: The Curse of the Black Pearl    4.295896e+08\n",
       "Jumanji: Welcome to the Jungle                            4.271355e+08\n",
       "Monsters, Inc.                                            4.236788e+08\n",
       "Spider-Man 3                                              4.200680e+08\n",
       "Guardians of the Galaxy Vol. 2                            4.115858e+08\n",
       "Despicable Me 2                                           4.089140e+08\n",
       "Transformers: Dark of the Moon                            4.054546e+08\n",
       "Shrek the Third                                           4.028295e+08\n",
       "Name:  USA Gross Income - Inflation Adjusted , dtype: float64"
      ]
     },
     "execution_count": 43,
     "metadata": {},
     "output_type": "execute_result"
    }
   ],
   "source": [
    "top_movies = inflation_df.groupby(by=\"original_title\")\n",
    "top_movies.head()\n",
    "sorted_top_movies = top_movies[\" USA Gross Income - Inflation Adjusted \"].sum().sort_values(ascending = False)\n",
    "sorted_top_movies.head(50)"
   ]
  },
  {
   "cell_type": "code",
   "execution_count": null,
   "id": "2f0b46d3",
   "metadata": {},
   "outputs": [],
   "source": []
  },
  {
   "cell_type": "code",
   "execution_count": 44,
   "id": "22f18b5c",
   "metadata": {},
   "outputs": [
    {
     "data": {
      "image/png": "[encoded data removed]",
      "text/plain": [
       "<Figure size 432x288 with 1 Axes>"
      ]
     },
     "metadata": {
      "needs_background": "light"
     },
     "output_type": "display_data"
    }
   ],
   "source": [
    "x_axis = sorted_top_movies.index[:10]\n",
    "y_axis = sorted_top_movies.values[:10]\n",
    "plt.xticks(rotation=90)\n",
    "plt.bar(x_axis, y_axis)\n",
    "plt.xlabel(\"Top 10 Movies\")\n",
    "plt.ylabel(\"Gross Income Inflation Adjusted\")\n",
    "plt.show()"
   ]
  },
  {
   "cell_type": "code",
   "execution_count": null,
   "id": "9a536555",
   "metadata": {},
   "outputs": [],
   "source": [
    "x_axis = sorted_top_movies_mean.index[:10]\n",
    "y_axis = sorted_top_movies_mean.values[:10]\n",
    "plt.xticks(rotation=90)\n",
    "plt.bar(x_axis, y_axis)\n",
    "plt.xlabel(\"Top 10 Movies\")\n",
    "plt.ylabel(\"Mean Gross Income Inflation Adjusted\")\n",
    "plt.show()"
   ]
  },
  {
   "cell_type": "code",
   "execution_count": 46,
   "id": "b1486815",
   "metadata": {},
   "outputs": [
    {
     "data": {
      "text/plain": [
       "actors_1\n",
       "Omar Sharif              0.0\n",
       "Ethan Embry              0.0\n",
       "Omkar Das Manikpuri      0.0\n",
       "Esther Purves-Smith      0.0\n",
       "Ertan Saban              0.0\n",
       "Erkan Can                0.0\n",
       "Erin Kelly               0.0\n",
       "Ophelia Lovibond         0.0\n",
       "Orhan Aydin              0.0\n",
       "Owen Campbell            0.0\n",
       "Paco Le√≥n               0.0\n",
       "Eric Lively              0.0\n",
       "Paddy Considine          0.0\n",
       "Paddy Wallace            0.0\n",
       "Eol Lee                  0.0\n",
       "Engin G√ºnaydin          0.0\n",
       "Enes Batur               0.0\n",
       "Emmanuelle Seigner       0.0\n",
       "Ezra Godden              0.0\n",
       "Famke Janssen            0.0\n",
       "Nicholas Braun           0.0\n",
       "Fares Fares              0.0\n",
       "Gary Cole                0.0\n",
       "Nick Purcha              0.0\n",
       "Nikola Kojo              0.0\n",
       "Nikolaj Coster-Waldau    0.0\n",
       "Nikolaj Lie Kaas         0.0\n",
       "Nils Westblom            0.0\n",
       "Nina Hoss                0.0\n",
       "Nirup Bhandari           0.0\n",
       "Fran√ßois Civil          0.0\n",
       "Fran√ßois B√©gaudeau     0.0\n",
       "Nivin Pauly              0.0\n",
       "Noah Centineo            0.0\n",
       "Noah Taylor              0.0\n",
       "Noel Clarke              0.0\n",
       "Frank Gingerich          0.0\n",
       "Francesc Garrido         0.0\n",
       "Nora-Jane Noone          0.0\n",
       "Florian Lukas            0.0\n",
       "Norman Reedus            0.0\n",
       "No√©mie Merlant          0.0\n",
       "Numan Acar               0.0\n",
       "Fionn O'Shea             0.0\n",
       "Ferhan Sensoy            0.0\n",
       "Ferdia Walsh-Peelo       0.0\n",
       "Fatima El Bahraouy       0.0\n",
       "Ok-bin Kim               0.0\n",
       "Farhan Akhtar            0.0\n",
       "√áetin Tekindor          0.0\n",
       "Name:  USA Gross Income - Inflation Adjusted , dtype: float64"
      ]
     },
     "execution_count": 46,
     "metadata": {},
     "output_type": "execute_result"
    }
   ],
   "source": [
    "top_actors = actor_director_df.groupby(by=\"actors_1\")\n",
    "top_actors.head()\n",
    "sorted_top_actors = top_actors[\" USA Gross Income - Inflation Adjusted \"].sum().sort_values(ascending = False)\n",
    "sorted_top_actors.tail(50)"
   ]
  },
  {
   "cell_type": "code",
   "execution_count": null,
   "id": "bcb6108c",
   "metadata": {},
   "outputs": [],
   "source": []
  }
 ],
 "metadata": {
  "kernelspec": {
   "display_name": "PythonData",
   "language": "python",
   "name": "pythondata"
  },
  "language_info": {
   "codemirror_mode": {
    "name": "ipython",
    "version": 3
   },
   "file_extension": ".py",
   "mimetype": "text/x-python",
   "name": "python",
   "nbconvert_exporter": "python",
   "pygments_lexer": "ipython3",
   "version": "3.7.7"
  }
 },
 "nbformat": 4,
 "nbformat_minor": 5
}
