{
 "cells": [
  {
   "cell_type": "code",
   "execution_count": 1,
   "id": "4d8d1681",
   "metadata": {},
   "outputs": [],
   "source": [
    "#%matplotlib notebook"
   ]
  },
  {
   "cell_type": "code",
   "execution_count": 2,
   "id": "a0190f44",
   "metadata": {},
   "outputs": [],
   "source": [
    "# Dependencies\n",
    "import matplotlib.pyplot as plt\n",
    "import numpy as np\n",
    "import pandas as pd\n",
    "import os\n",
    "import csv"
   ]
  },
  {
   "cell_type": "code",
   "execution_count": 3,
   "id": "cf05867f",
   "metadata": {},
   "outputs": [
    {
     "data": {
      "text/html": [
       "<div>\n",
       "<style scoped>\n",
       "    .dataframe tbody tr th:only-of-type {\n",
       "        vertical-align: middle;\n",
       "    }\n",
       "\n",
       "    .dataframe tbody tr th {\n",
       "        vertical-align: top;\n",
       "    }\n",
       "\n",
       "    .dataframe thead th {\n",
       "        text-align: right;\n",
       "    }\n",
       "</style>\n",
       "<table border=\"1\" class=\"dataframe\">\n",
       "  <thead>\n",
       "    <tr style=\"text-align: right;\">\n",
       "      <th></th>\n",
       "      <th>imdb_title_id</th>\n",
       "      <th>original_title</th>\n",
       "      <th>year</th>\n",
       "      <th>date_published</th>\n",
       "      <th>genre 1</th>\n",
       "      <th>genre 2</th>\n",
       "      <th>genre 3</th>\n",
       "      <th>duration</th>\n",
       "      <th>country</th>\n",
       "      <th>language_1</th>\n",
       "      <th>...</th>\n",
       "      <th>desc35</th>\n",
       "      <th>avg_vote</th>\n",
       "      <th>votes</th>\n",
       "      <th>Budget - Inflation Adjusted</th>\n",
       "      <th>budget</th>\n",
       "      <th>USA Gross Income - Inflation Adjusted</th>\n",
       "      <th>usa_gross_income</th>\n",
       "      <th>WW Gross Income - Inflation Adjusted</th>\n",
       "      <th>worlwide_gross_income</th>\n",
       "      <th>reviews_from_users</th>\n",
       "    </tr>\n",
       "  </thead>\n",
       "  <tbody>\n",
       "    <tr>\n",
       "      <th>0</th>\n",
       "      <td>tt0035423</td>\n",
       "      <td>Kate &amp; Leopold</td>\n",
       "      <td>2001.0</td>\n",
       "      <td>1/3/02</td>\n",
       "      <td>Comedy</td>\n",
       "      <td>Fantasy</td>\n",
       "      <td>Romance</td>\n",
       "      <td>118.0</td>\n",
       "      <td>USA</td>\n",
       "      <td>English</td>\n",
       "      <td>...</td>\n",
       "      <td>An English Duke from 1876 is inadvertedly</td>\n",
       "      <td>6.4</td>\n",
       "      <td>77852.0</td>\n",
       "      <td>$70,146,403.16</td>\n",
       "      <td>$48,000,000.00</td>\n",
       "      <td>$68,863,102.48</td>\n",
       "      <td>$47,121,859.00</td>\n",
       "      <td>$111,092,974.77</td>\n",
       "      <td>$76,019,048.00</td>\n",
       "      <td>341.0</td>\n",
       "    </tr>\n",
       "    <tr>\n",
       "      <th>1</th>\n",
       "      <td>tt0118589</td>\n",
       "      <td>Glitter</td>\n",
       "      <td>2001.0</td>\n",
       "      <td>30/11/2001</td>\n",
       "      <td>Drama</td>\n",
       "      <td>Music</td>\n",
       "      <td>Romance</td>\n",
       "      <td>104.0</td>\n",
       "      <td>USA</td>\n",
       "      <td>English</td>\n",
       "      <td>...</td>\n",
       "      <td>A young singer dates a disc jockey</td>\n",
       "      <td>2.2</td>\n",
       "      <td>21298.0</td>\n",
       "      <td>$32,150,434.78</td>\n",
       "      <td>$22,000,000.00</td>\n",
       "      <td>$6,246,547.43</td>\n",
       "      <td>$4,274,407.00</td>\n",
       "      <td>$7,703,925.18</td>\n",
       "      <td>$5,271,666.00</td>\n",
       "      <td>319.0</td>\n",
       "    </tr>\n",
       "    <tr>\n",
       "      <th>2</th>\n",
       "      <td>tt0120630</td>\n",
       "      <td>Chicken Run</td>\n",
       "      <td>2000.0</td>\n",
       "      <td>15/12/2000</td>\n",
       "      <td>Animation</td>\n",
       "      <td>Adventure</td>\n",
       "      <td>Comedy</td>\n",
       "      <td>84.0</td>\n",
       "      <td>UK, USA, France</td>\n",
       "      <td>English</td>\n",
       "      <td>...</td>\n",
       "      <td>When a cockerel apparently flies</td>\n",
       "      <td>7.0</td>\n",
       "      <td>173987.0</td>\n",
       "      <td>$67,633,536.59</td>\n",
       "      <td>$45,000,000.00</td>\n",
       "      <td>$160,568,875.40</td>\n",
       "      <td>$106,834,564.00</td>\n",
       "      <td>$337,919,038.00</td>\n",
       "      <td>$224,834,564.00</td>\n",
       "      <td>393.0</td>\n",
       "    </tr>\n",
       "    <tr>\n",
       "      <th>3</th>\n",
       "      <td>tt0120667</td>\n",
       "      <td>Fantastic Four</td>\n",
       "      <td>2005.0</td>\n",
       "      <td>16/09/2005</td>\n",
       "      <td>Action</td>\n",
       "      <td>Adventure</td>\n",
       "      <td>Fantasy</td>\n",
       "      <td>106.0</td>\n",
       "      <td>USA, Germany</td>\n",
       "      <td>English</td>\n",
       "      <td>...</td>\n",
       "      <td>A group of astronauts gain superpowers</td>\n",
       "      <td>5.7</td>\n",
       "      <td>307944.0</td>\n",
       "      <td>$132,519,713.26</td>\n",
       "      <td>$100,000,000.00</td>\n",
       "      <td>$205,002,801.64</td>\n",
       "      <td>$154,696,080.00</td>\n",
       "      <td>$442,000,863.36</td>\n",
       "      <td>$333,535,934.00</td>\n",
       "      <td>1029.0</td>\n",
       "    </tr>\n",
       "    <tr>\n",
       "      <th>4</th>\n",
       "      <td>tt0247196</td>\n",
       "      <td>Before Night Falls</td>\n",
       "      <td>2000.0</td>\n",
       "      <td>10/11/01</td>\n",
       "      <td>Biography</td>\n",
       "      <td>Drama</td>\n",
       "      <td>Romance</td>\n",
       "      <td>133.0</td>\n",
       "      <td>USA, Mexico</td>\n",
       "      <td>English</td>\n",
       "      <td>...</td>\n",
       "      <td>The life of Cuban poet and novelist,</td>\n",
       "      <td>7.2</td>\n",
       "      <td>23666.0</td>\n",
       "      <td>NaN</td>\n",
       "      <td>NaN</td>\n",
       "      <td>NaN</td>\n",
       "      <td>4242892</td>\n",
       "      <td>NaN</td>\n",
       "      <td>8601053</td>\n",
       "      <td>138.0</td>\n",
       "    </tr>\n",
       "  </tbody>\n",
       "</table>\n",
       "<p>5 rows × 28 columns</p>\n",
       "</div>"
      ],
      "text/plain": [
       "  imdb_title_id      original_title    year date_published    genre 1  \\\n",
       "0     tt0035423      Kate & Leopold  2001.0         1/3/02     Comedy   \n",
       "1     tt0118589             Glitter  2001.0     30/11/2001      Drama   \n",
       "2     tt0120630         Chicken Run  2000.0     15/12/2000  Animation   \n",
       "3     tt0120667      Fantastic Four  2005.0     16/09/2005     Action   \n",
       "4     tt0247196  Before Night Falls  2000.0       10/11/01  Biography   \n",
       "\n",
       "      genre 2   genre 3  duration          country language_1  ...  \\\n",
       "0     Fantasy   Romance     118.0              USA    English  ...   \n",
       "1       Music   Romance     104.0              USA    English  ...   \n",
       "2   Adventure    Comedy      84.0  UK, USA, France    English  ...   \n",
       "3   Adventure   Fantasy     106.0     USA, Germany    English  ...   \n",
       "4       Drama   Romance     133.0      USA, Mexico    English  ...   \n",
       "\n",
       "                                      desc35 avg_vote     votes  \\\n",
       "0  An English Duke from 1876 is inadvertedly      6.4   77852.0   \n",
       "1         A young singer dates a disc jockey      2.2   21298.0   \n",
       "2           When a cockerel apparently flies      7.0  173987.0   \n",
       "3     A group of astronauts gain superpowers      5.7  307944.0   \n",
       "4       The life of Cuban poet and novelist,      7.2   23666.0   \n",
       "\n",
       "  Budget - Inflation Adjusted            budget   \\\n",
       "0             $70,146,403.16     $48,000,000.00    \n",
       "1             $32,150,434.78     $22,000,000.00    \n",
       "2             $67,633,536.59     $45,000,000.00    \n",
       "3            $132,519,713.26    $100,000,000.00    \n",
       "4                         NaN                NaN   \n",
       "\n",
       "   USA Gross Income - Inflation Adjusted   usa_gross_income   \\\n",
       "0                         $68,863,102.48     $47,121,859.00    \n",
       "1                          $6,246,547.43      $4,274,407.00    \n",
       "2                        $160,568,875.40    $106,834,564.00    \n",
       "3                        $205,002,801.64    $154,696,080.00    \n",
       "4                                     NaN            4242892   \n",
       "\n",
       "   WW Gross Income - Inflation Adjusted   worlwide_gross_income   \\\n",
       "0                       $111,092,974.77          $76,019,048.00    \n",
       "1                         $7,703,925.18           $5,271,666.00    \n",
       "2                       $337,919,038.00         $224,834,564.00    \n",
       "3                       $442,000,863.36         $333,535,934.00    \n",
       "4                                    NaN                 8601053   \n",
       "\n",
       "   reviews_from_users  \n",
       "0               341.0  \n",
       "1               319.0  \n",
       "2               393.0  \n",
       "3              1029.0  \n",
       "4               138.0  \n",
       "\n",
       "[5 rows x 28 columns]"
      ]
     },
     "execution_count": 3,
     "metadata": {},
     "output_type": "execute_result"
    }
   ],
   "source": [
    "# Load in csv\n",
    "inflation_df= pd.read_csv('IMDB Movies-inflation-Mar22.csv')\n",
    "inflation_df.head()\n",
    "#inflation_df.columns"
   ]
  },
  {
   "cell_type": "code",
   "execution_count": 4,
   "id": "b231c7c4",
   "metadata": {},
   "outputs": [
    {
     "data": {
      "text/plain": [
       "Index(['imdb_title_id', 'original_title', 'year', 'date_published', 'genre 1',\n",
       "       'genre 2', 'genre 3', 'duration', 'country', 'language_1', 'language_2',\n",
       "       'language_3', 'director', 'writer', 'actors', 'actors_1', 'actors_f2',\n",
       "       'description', 'desc35', 'avg_vote', 'votes',\n",
       "       'Budget - Inflation Adjusted', ' budget ',\n",
       "       ' USA Gross Income - Inflation Adjusted ', ' usa_gross_income ',\n",
       "       ' WW Gross Income - Inflation Adjusted ', ' worlwide_gross_income ',\n",
       "       'reviews_from_users'],\n",
       "      dtype='object')"
      ]
     },
     "execution_count": 4,
     "metadata": {},
     "output_type": "execute_result"
    }
   ],
   "source": [
    "inflation_df.columns"
   ]
  },
  {
   "cell_type": "code",
   "execution_count": 5,
   "id": "7510a889",
   "metadata": {},
   "outputs": [],
   "source": [
    "inflation_df[\" USA Gross Income - Inflation Adjusted \"] = inflation_df[\" USA Gross Income - Inflation Adjusted \"].replace('[\\$,]', '', regex=True).astype(float)"
   ]
  },
  {
   "cell_type": "code",
   "execution_count": null,
   "id": "291cb308",
   "metadata": {},
   "outputs": [],
   "source": []
  },
  {
   "cell_type": "code",
   "execution_count": 6,
   "id": "76c906ec",
   "metadata": {},
   "outputs": [
    {
     "data": {
      "text/html": [
       "<div>\n",
       "<style scoped>\n",
       "    .dataframe tbody tr th:only-of-type {\n",
       "        vertical-align: middle;\n",
       "    }\n",
       "\n",
       "    .dataframe tbody tr th {\n",
       "        vertical-align: top;\n",
       "    }\n",
       "\n",
       "    .dataframe thead th {\n",
       "        text-align: right;\n",
       "    }\n",
       "</style>\n",
       "<table border=\"1\" class=\"dataframe\">\n",
       "  <thead>\n",
       "    <tr style=\"text-align: right;\">\n",
       "      <th></th>\n",
       "      <th>actors_1</th>\n",
       "      <th>director</th>\n",
       "      <th>original_title</th>\n",
       "      <th>USA Gross Income - Inflation Adjusted</th>\n",
       "    </tr>\n",
       "  </thead>\n",
       "  <tbody>\n",
       "    <tr>\n",
       "      <th>0</th>\n",
       "      <td>Meg Ryan</td>\n",
       "      <td>James Mangold</td>\n",
       "      <td>Kate &amp; Leopold</td>\n",
       "      <td>6.886310e+07</td>\n",
       "    </tr>\n",
       "    <tr>\n",
       "      <th>1</th>\n",
       "      <td>Mariah Carey</td>\n",
       "      <td>Vondie Curtis-Hall</td>\n",
       "      <td>Glitter</td>\n",
       "      <td>6.246547e+06</td>\n",
       "    </tr>\n",
       "    <tr>\n",
       "      <th>2</th>\n",
       "      <td>Phil Daniels</td>\n",
       "      <td>Peter Lord, Nick Park</td>\n",
       "      <td>Chicken Run</td>\n",
       "      <td>1.605689e+08</td>\n",
       "    </tr>\n",
       "    <tr>\n",
       "      <th>3</th>\n",
       "      <td>Ioan Gruffudd</td>\n",
       "      <td>Tim Story</td>\n",
       "      <td>Fantastic Four</td>\n",
       "      <td>2.050028e+08</td>\n",
       "    </tr>\n",
       "    <tr>\n",
       "      <th>4</th>\n",
       "      <td>Olatz L√≥pez Garmendia</td>\n",
       "      <td>Julian Schnabel</td>\n",
       "      <td>Before Night Falls</td>\n",
       "      <td>NaN</td>\n",
       "    </tr>\n",
       "  </tbody>\n",
       "</table>\n",
       "</div>"
      ],
      "text/plain": [
       "                 actors_1               director      original_title  \\\n",
       "0                Meg Ryan          James Mangold      Kate & Leopold   \n",
       "1            Mariah Carey     Vondie Curtis-Hall             Glitter   \n",
       "2            Phil Daniels  Peter Lord, Nick Park         Chicken Run   \n",
       "3           Ioan Gruffudd              Tim Story      Fantastic Four   \n",
       "4  Olatz L√≥pez Garmendia        Julian Schnabel  Before Night Falls   \n",
       "\n",
       "    USA Gross Income - Inflation Adjusted   \n",
       "0                             6.886310e+07  \n",
       "1                             6.246547e+06  \n",
       "2                             1.605689e+08  \n",
       "3                             2.050028e+08  \n",
       "4                                      NaN  "
      ]
     },
     "execution_count": 6,
     "metadata": {},
     "output_type": "execute_result"
    }
   ],
   "source": [
    "actor_director_df = inflation_df[[\"actors_1\", \"director\", \"original_title\", \" USA Gross Income - Inflation Adjusted \"]]\n",
    "actor_director_df.head()"
   ]
  },
  {
   "cell_type": "code",
   "execution_count": null,
   "id": "fdb51ddb",
   "metadata": {},
   "outputs": [],
   "source": []
  },
  {
   "cell_type": "code",
   "execution_count": 7,
   "id": "e7006424",
   "metadata": {},
   "outputs": [
    {
     "data": {
      "text/plain": [
       "actors_1\n",
       "Robert Downey Jr.    4.701903e+09\n",
       "Johnny Depp          3.661996e+09\n",
       "Will Smith           2.972164e+09\n",
       "Adam Sandler         2.839811e+09\n",
       "Tom Cruise           2.654136e+09\n",
       "Name:  USA Gross Income - Inflation Adjusted , dtype: float64"
      ]
     },
     "execution_count": 7,
     "metadata": {},
     "output_type": "execute_result"
    }
   ],
   "source": [
    "top_actors = actor_director_df.groupby(by=\"actors_1\")\n",
    "top_actors.head()\n",
    "sorted_top_actors = top_actors[\" USA Gross Income - Inflation Adjusted \"].sum().sort_values(ascending = False)\n",
    "sorted_top_actors.head()\n",
    "#print (top_actors[\" USA Gross Income - Inflation Adjusted \"].dtype)"
   ]
  },
  {
   "cell_type": "code",
   "execution_count": 8,
   "id": "76a45b71",
   "metadata": {},
   "outputs": [
    {
     "data": {
      "text/plain": [
       "actors_1\n",
       "Mark Hamill        6.548212e+08\n",
       "Albert Brooks      5.356871e+08\n",
       "Noel Appleby       5.314711e+08\n",
       "Ellen DeGeneres    5.243957e+08\n",
       "Carrie Fisher      5.215585e+08\n",
       "Name:  USA Gross Income - Inflation Adjusted , dtype: float64"
      ]
     },
     "execution_count": 8,
     "metadata": {},
     "output_type": "execute_result"
    }
   ],
   "source": [
    "top_actors = actor_director_df.groupby(by=\"actors_1\")\n",
    "top_actors.head()\n",
    "sorted_top_actors_mean = top_actors[\" USA Gross Income - Inflation Adjusted \"].mean().sort_values(ascending = False)\n",
    "sorted_top_actors_mean.head()"
   ]
  },
  {
   "cell_type": "code",
   "execution_count": 9,
   "id": "8d086a49",
   "metadata": {},
   "outputs": [
    {
     "data": {
      "image/png": "[encoded data removed]",
      "text/plain": [
       "<Figure size 432x288 with 1 Axes>"
      ]
     },
     "metadata": {
      "needs_background": "light"
     },
     "output_type": "display_data"
    }
   ],
   "source": [
    "x_axis = sorted_top_actors.index[:10]\n",
    "y_axis = sorted_top_actors.values[:10]\n",
    "plt.xticks(rotation=90)\n",
    "plt.bar(x_axis, y_axis)\n",
    "plt.xlabel(\"Top 10 Actors\")\n",
    "plt.ylabel(\"Gross Profit Inflation Adjusted\")\n",
    "plt.title(\"Top 10 Actors vs. Gross Profit Inflation Adjusted\")\n",
    "plt.show()"
   ]
  },
  {
   "cell_type": "code",
   "execution_count": 10,
   "id": "c633fd0b",
   "metadata": {},
   "outputs": [
    {
     "data": {
      "image/png": "[encoded data removed]",
      "text/plain": [
       "<Figure size 432x288 with 1 Axes>"
      ]
     },
     "metadata": {
      "needs_background": "light"
     },
     "output_type": "display_data"
    }
   ],
   "source": [
    "x_axis = sorted_top_actors_mean.index[:10]\n",
    "y_axis = sorted_top_actors_mean.values[:10]\n",
    "plt.xticks(rotation=90)\n",
    "plt.bar(x_axis, y_axis)\n",
    "plt.xlabel(\"Top 10 Actors\")\n",
    "plt.ylabel(\"Mean Gross Profit Inflation Adjusted\")\n",
    "plt.title(\"Top 10 Actors vs. Mean Gross Profit Inflation Adjusted\")\n",
    "plt.show()"
   ]
  },
  {
   "cell_type": "code",
   "execution_count": 34,
   "id": "c4fe2c64",
   "metadata": {},
   "outputs": [
    {
     "data": {
      "text/plain": [
       "director\n",
       "Peter Jackson               2.735140e+09\n",
       "J.J. Abrams                 2.427629e+09\n",
       "Anthony Russo, Joe Russo    2.390225e+09\n",
       "Christopher Nolan           2.379280e+09\n",
       "Michael Bay                 2.339791e+09\n",
       "Name:  USA Gross Income - Inflation Adjusted , dtype: float64"
      ]
     },
     "execution_count": 34,
     "metadata": {},
     "output_type": "execute_result"
    }
   ],
   "source": [
    "top_directors = actor_director_df.groupby(by=\"director\")\n",
    "#top_directors.head()\n",
    "sorted_top_directors = top_directors[\" USA Gross Income - Inflation Adjusted \"].sum().sort_values(ascending = False)\n",
    "sorted_top_directors.head()\n",
    "#print (top_actors[\" USA Gross Income - Inflation Adjusted \"].dtype)"
   ]
  },
  {
   "cell_type": "code",
   "execution_count": 12,
   "id": "539c22b7",
   "metadata": {},
   "outputs": [
    {
     "data": {
      "text/plain": [
       "director\n",
       "James Cameron                    9.174536e+08\n",
       "Andrew Adamson, Kelly Asbury     6.045220e+08\n",
       "Andrew Stanton, Lee Unkrich      5.356871e+08\n",
       "Andrew Stanton, Angus MacLane    5.243957e+08\n",
       "Lee Unkrich                      4.925699e+08\n",
       "Name:  USA Gross Income - Inflation Adjusted , dtype: float64"
      ]
     },
     "execution_count": 12,
     "metadata": {},
     "output_type": "execute_result"
    }
   ],
   "source": [
    "top_directors = actor_director_df.groupby(by=\"director\")\n",
    "top_directors.head()\n",
    "sorted_top_directors_mean = top_directors[\" USA Gross Income - Inflation Adjusted \"].mean().sort_values(ascending = False)\n",
    "sorted_top_directors_mean.head()"
   ]
  },
  {
   "cell_type": "code",
   "execution_count": 13,
   "id": "6bfc1f9c",
   "metadata": {},
   "outputs": [
    {
     "data": {
      "image/png": "[encoded data removed]",
      "text/plain": [
       "<Figure size 432x288 with 1 Axes>"
      ]
     },
     "metadata": {
      "needs_background": "light"
     },
     "output_type": "display_data"
    }
   ],
   "source": [
    "x_axis = sorted_top_directors.index[:10]\n",
    "y_axis = sorted_top_directors.values[:10]\n",
    "plt.xticks(rotation=90)\n",
    "plt.bar(x_axis, y_axis)\n",
    "plt.xlabel(\"Top 10 Directors\")\n",
    "plt.ylabel(\"Gross Profit Inflation Adjusted\")\n",
    "plt.title(\"Top 10 Directors vs. Gross Profit Inflation Adjusted\")\n",
    "plt.show()"
   ]
  },
  {
   "cell_type": "code",
   "execution_count": 14,
   "id": "05585d8c",
   "metadata": {},
   "outputs": [
    {
     "data": {
      "image/png": "[encoded data removed]",
      "text/plain": [
       "<Figure size 432x288 with 1 Axes>"
      ]
     },
     "metadata": {
      "needs_background": "light"
     },
     "output_type": "display_data"
    }
   ],
   "source": [
    "x_axis = sorted_top_directors_mean.index[:10]\n",
    "y_axis = sorted_top_directors_mean.values[:10]\n",
    "plt.xticks(rotation=90)\n",
    "plt.bar(x_axis, y_axis)\n",
    "plt.xlabel(\"Top 10 Directors\")\n",
    "plt.ylabel(\"Mean Gross Profit Inflation Adjusted\")\n",
    "plt.title(\"Top 10 Directors vs. Mean Gross Profit Inflation Adjusted\")\n",
    "plt.show()"
   ]
  },
  {
   "cell_type": "code",
   "execution_count": 15,
   "id": "6d898f67",
   "metadata": {},
   "outputs": [
    {
     "data": {
      "text/plain": [
       "original_title\n",
       "Star Wars: Episode VII - The Force Awakens    1.022789e+09\n",
       "Avatar                                        9.174536e+08\n",
       "Avengers: Endgame                             8.689626e+08\n",
       "Black Panther                                 7.219158e+08\n",
       "Jurassic World                                7.122477e+08\n",
       "Name:  USA Gross Income - Inflation Adjusted , dtype: float64"
      ]
     },
     "execution_count": 15,
     "metadata": {},
     "output_type": "execute_result"
    }
   ],
   "source": [
    "top_movies = inflation_df.groupby(by=\"original_title\")\n",
    "top_movies.head()\n",
    "sorted_top_movies = top_movies[\" USA Gross Income - Inflation Adjusted \"].sum().sort_values(ascending = False)\n",
    "sorted_top_movies.head()"
   ]
  },
  {
   "cell_type": "code",
   "execution_count": null,
   "id": "5d0b9ea5",
   "metadata": {},
   "outputs": [],
   "source": []
  },
  {
   "cell_type": "code",
   "execution_count": 16,
   "id": "f2deaba7",
   "metadata": {},
   "outputs": [
    {
     "data": {
      "image/png": "[encoded data removed]",
      "text/plain": [
       "<Figure size 432x288 with 1 Axes>"
      ]
     },
     "metadata": {
      "needs_background": "light"
     },
     "output_type": "display_data"
    }
   ],
   "source": [
    "x_axis = sorted_top_movies.index[:10]\n",
    "y_axis = sorted_top_movies.values[:10]\n",
    "plt.xticks(rotation=90)\n",
    "plt.bar(x_axis, y_axis)\n",
    "plt.xlabel(\"Top 10 Movies\")\n",
    "plt.ylabel(\"Gross Profit Inflation Adjusted\")\n",
    "plt.title(\"Top 10 Movies vs. Gross Profit Inflation Adjusted\")\n",
    "plt.show()"
   ]
  },
  {
   "cell_type": "code",
   "execution_count": 17,
   "id": "4777daf8",
   "metadata": {},
   "outputs": [
    {
     "data": {
      "text/plain": [
       "original_title\n",
       "Star Wars: Episode VII - The Force Awakens    1.022789e+09\n",
       "Avatar                                        9.174536e+08\n",
       "Avengers: Endgame                             8.689626e+08\n",
       "Black Panther                                 7.219158e+08\n",
       "Jurassic World                                7.122477e+08\n",
       "Name:  USA Gross Income - Inflation Adjusted , dtype: float64"
      ]
     },
     "execution_count": 17,
     "metadata": {},
     "output_type": "execute_result"
    }
   ],
   "source": [
    "top_movies = inflation_df.groupby(by=\"original_title\")\n",
    "top_movies.head()\n",
    "sorted_top_movies_mean = top_movies[\" USA Gross Income - Inflation Adjusted \"].mean().sort_values(ascending = False)\n",
    "sorted_top_movies_mean.head()"
   ]
  },
  {
   "cell_type": "code",
   "execution_count": 18,
   "id": "f59c4fba",
   "metadata": {},
   "outputs": [
    {
     "data": {
      "image/png": "[encoded data removed]",
      "text/plain": [
       "<Figure size 432x288 with 1 Axes>"
      ]
     },
     "metadata": {
      "needs_background": "light"
     },
     "output_type": "display_data"
    }
   ],
   "source": [
    "x_axis = sorted_top_movies_mean.index[:10]\n",
    "y_axis = sorted_top_movies_mean.values[:10]\n",
    "plt.xticks(rotation=90)\n",
    "plt.bar(x_axis, y_axis)\n",
    "plt.xlabel(\"Top 10 Movies\")\n",
    "plt.ylabel(\"Mean Gross Income Inflation Adjusted\")\n",
    "plt.show()"
   ]
  },
  {
   "cell_type": "code",
   "execution_count": 19,
   "id": "8491d228",
   "metadata": {},
   "outputs": [],
   "source": [
    "# top_actors = actor_director_df.groupby(by=\"actors_1\")\n",
    "# top_actors.head()\n",
    "# sorted_top_actors = top_actors[\" USA Gross Income - Inflation Adjusted \"].sum().sort_values(ascending = False)\n",
    "# sorted_top_actors.tail(50)"
   ]
  },
  {
   "cell_type": "code",
   "execution_count": 20,
   "id": "2c1eab82",
   "metadata": {},
   "outputs": [],
   "source": [
    "# top_rated = inflation_df.groupby(by=\"original_title\")\n",
    "# top_rated.head()\n",
    "# sorted_top_rated = top_rated[\"avg_vote\"].mean().sort_values(ascending = False)\n",
    "# sorted_top_rated.head(50)"
   ]
  },
  {
   "cell_type": "code",
   "execution_count": 21,
   "id": "15a4c66e",
   "metadata": {},
   "outputs": [
    {
     "data": {
      "text/html": [
       "<div>\n",
       "<style scoped>\n",
       "    .dataframe tbody tr th:only-of-type {\n",
       "        vertical-align: middle;\n",
       "    }\n",
       "\n",
       "    .dataframe tbody tr th {\n",
       "        vertical-align: top;\n",
       "    }\n",
       "\n",
       "    .dataframe thead th {\n",
       "        text-align: right;\n",
       "    }\n",
       "</style>\n",
       "<table border=\"1\" class=\"dataframe\">\n",
       "  <thead>\n",
       "    <tr style=\"text-align: right;\">\n",
       "      <th></th>\n",
       "      <th>Top Actors</th>\n",
       "    </tr>\n",
       "    <tr>\n",
       "      <th>actors_1</th>\n",
       "      <th></th>\n",
       "    </tr>\n",
       "  </thead>\n",
       "  <tbody>\n",
       "    <tr>\n",
       "      <th>Robert Downey Jr.</th>\n",
       "      <td>4.701903e+09</td>\n",
       "    </tr>\n",
       "    <tr>\n",
       "      <th>Johnny Depp</th>\n",
       "      <td>3.661996e+09</td>\n",
       "    </tr>\n",
       "    <tr>\n",
       "      <th>Will Smith</th>\n",
       "      <td>2.972164e+09</td>\n",
       "    </tr>\n",
       "    <tr>\n",
       "      <th>Adam Sandler</th>\n",
       "      <td>2.839811e+09</td>\n",
       "    </tr>\n",
       "    <tr>\n",
       "      <th>Tom Cruise</th>\n",
       "      <td>2.654136e+09</td>\n",
       "    </tr>\n",
       "    <tr>\n",
       "      <th>...</th>\n",
       "      <td>...</td>\n",
       "    </tr>\n",
       "    <tr>\n",
       "      <th>Ferdia Walsh-Peelo</th>\n",
       "      <td>0.000000e+00</td>\n",
       "    </tr>\n",
       "    <tr>\n",
       "      <th>Fatima El Bahraouy</th>\n",
       "      <td>0.000000e+00</td>\n",
       "    </tr>\n",
       "    <tr>\n",
       "      <th>Ok-bin Kim</th>\n",
       "      <td>0.000000e+00</td>\n",
       "    </tr>\n",
       "    <tr>\n",
       "      <th>Farhan Akhtar</th>\n",
       "      <td>0.000000e+00</td>\n",
       "    </tr>\n",
       "    <tr>\n",
       "      <th>√áetin Tekindor</th>\n",
       "      <td>0.000000e+00</td>\n",
       "    </tr>\n",
       "  </tbody>\n",
       "</table>\n",
       "<p>2299 rows × 1 columns</p>\n",
       "</div>"
      ],
      "text/plain": [
       "                      Top Actors\n",
       "actors_1                        \n",
       "Robert Downey Jr.   4.701903e+09\n",
       "Johnny Depp         3.661996e+09\n",
       "Will Smith          2.972164e+09\n",
       "Adam Sandler        2.839811e+09\n",
       "Tom Cruise          2.654136e+09\n",
       "...                          ...\n",
       "Ferdia Walsh-Peelo  0.000000e+00\n",
       "Fatima El Bahraouy  0.000000e+00\n",
       "Ok-bin Kim          0.000000e+00\n",
       "Farhan Akhtar       0.000000e+00\n",
       "√áetin Tekindor     0.000000e+00\n",
       "\n",
       "[2299 rows x 1 columns]"
      ]
     },
     "execution_count": 21,
     "metadata": {},
     "output_type": "execute_result"
    }
   ],
   "source": [
    "actors_df = pd.DataFrame({\n",
    "    \"Top Actors\": sorted_top_actors\n",
    "})\n",
    "actors_df"
   ]
  },
  {
   "cell_type": "code",
   "execution_count": 22,
   "id": "17cd12fb",
   "metadata": {},
   "outputs": [],
   "source": [
    "actors_df.to_csv('actors.csv')"
   ]
  },
  {
   "cell_type": "code",
   "execution_count": 27,
   "id": "cb62ddec",
   "metadata": {},
   "outputs": [
    {
     "data": {
      "text/html": [
       "<div>\n",
       "<style scoped>\n",
       "    .dataframe tbody tr th:only-of-type {\n",
       "        vertical-align: middle;\n",
       "    }\n",
       "\n",
       "    .dataframe tbody tr th {\n",
       "        vertical-align: top;\n",
       "    }\n",
       "\n",
       "    .dataframe thead th {\n",
       "        text-align: right;\n",
       "    }\n",
       "</style>\n",
       "<table border=\"1\" class=\"dataframe\">\n",
       "  <thead>\n",
       "    <tr style=\"text-align: right;\">\n",
       "      <th></th>\n",
       "      <th>actors_1</th>\n",
       "      <th>gross_profit</th>\n",
       "      <th>gender</th>\n",
       "    </tr>\n",
       "  </thead>\n",
       "  <tbody>\n",
       "    <tr>\n",
       "      <th>0</th>\n",
       "      <td>Robert Downey Jr.</td>\n",
       "      <td>4.701903e+09</td>\n",
       "      <td>M</td>\n",
       "    </tr>\n",
       "    <tr>\n",
       "      <th>1</th>\n",
       "      <td>Johnny Depp</td>\n",
       "      <td>3.661996e+09</td>\n",
       "      <td>M</td>\n",
       "    </tr>\n",
       "    <tr>\n",
       "      <th>2</th>\n",
       "      <td>Will Smith</td>\n",
       "      <td>2.972164e+09</td>\n",
       "      <td>M</td>\n",
       "    </tr>\n",
       "    <tr>\n",
       "      <th>3</th>\n",
       "      <td>Adam Sandler</td>\n",
       "      <td>2.839811e+09</td>\n",
       "      <td>M</td>\n",
       "    </tr>\n",
       "    <tr>\n",
       "      <th>4</th>\n",
       "      <td>Tom Cruise</td>\n",
       "      <td>2.654136e+09</td>\n",
       "      <td>M</td>\n",
       "    </tr>\n",
       "  </tbody>\n",
       "</table>\n",
       "</div>"
      ],
      "text/plain": [
       "            actors_1  gross_profit gender\n",
       "0  Robert Downey Jr.  4.701903e+09      M\n",
       "1        Johnny Depp  3.661996e+09      M\n",
       "2         Will Smith  2.972164e+09      M\n",
       "3       Adam Sandler  2.839811e+09      M\n",
       "4         Tom Cruise  2.654136e+09      M"
      ]
     },
     "execution_count": 27,
     "metadata": {},
     "output_type": "execute_result"
    }
   ],
   "source": [
    "just_actors_df_2= pd.read_csv('actors.csv')\n",
    "just_actors_df_2.head()\n",
    "\n",
    "just_actors_df_2 = pd.read_excel('actors.xls').dropna()\n",
    "just_actors_df_2.head()"
   ]
  },
  {
   "cell_type": "code",
   "execution_count": 29,
   "id": "bbc854f8",
   "metadata": {},
   "outputs": [
    {
     "data": {
      "text/html": [
       "<div>\n",
       "<style scoped>\n",
       "    .dataframe tbody tr th:only-of-type {\n",
       "        vertical-align: middle;\n",
       "    }\n",
       "\n",
       "    .dataframe tbody tr th {\n",
       "        vertical-align: top;\n",
       "    }\n",
       "\n",
       "    .dataframe thead th {\n",
       "        text-align: right;\n",
       "    }\n",
       "</style>\n",
       "<table border=\"1\" class=\"dataframe\">\n",
       "  <thead>\n",
       "    <tr style=\"text-align: right;\">\n",
       "      <th></th>\n",
       "      <th>actors_1</th>\n",
       "      <th>gross_profit</th>\n",
       "      <th>gender</th>\n",
       "    </tr>\n",
       "  </thead>\n",
       "  <tbody>\n",
       "    <tr>\n",
       "      <th>8</th>\n",
       "      <td>Sandra Bullock</td>\n",
       "      <td>2.169103e+09</td>\n",
       "      <td>F</td>\n",
       "    </tr>\n",
       "    <tr>\n",
       "      <th>30</th>\n",
       "      <td>Jennifer Lawrence</td>\n",
       "      <td>1.427987e+09</td>\n",
       "      <td>F</td>\n",
       "    </tr>\n",
       "    <tr>\n",
       "      <th>38</th>\n",
       "      <td>Kristen Stewart</td>\n",
       "      <td>1.182177e+09</td>\n",
       "      <td>F</td>\n",
       "    </tr>\n",
       "    <tr>\n",
       "      <th>43</th>\n",
       "      <td>Kristen Bell</td>\n",
       "      <td>1.042916e+09</td>\n",
       "      <td>F</td>\n",
       "    </tr>\n",
       "    <tr>\n",
       "      <th>44</th>\n",
       "      <td>Reese Witherspoon</td>\n",
       "      <td>1.030070e+09</td>\n",
       "      <td>F</td>\n",
       "    </tr>\n",
       "    <tr>\n",
       "      <th>52</th>\n",
       "      <td>Angelina Jolie</td>\n",
       "      <td>9.184811e+08</td>\n",
       "      <td>F</td>\n",
       "    </tr>\n",
       "    <tr>\n",
       "      <th>59</th>\n",
       "      <td>Cameron Diaz</td>\n",
       "      <td>8.216388e+08</td>\n",
       "      <td>F</td>\n",
       "    </tr>\n",
       "    <tr>\n",
       "      <th>66</th>\n",
       "      <td>Anna Kendrick</td>\n",
       "      <td>7.499680e+08</td>\n",
       "      <td>F</td>\n",
       "    </tr>\n",
       "    <tr>\n",
       "      <th>68</th>\n",
       "      <td>Meryl Streep</td>\n",
       "      <td>7.432783e+08</td>\n",
       "      <td>F</td>\n",
       "    </tr>\n",
       "    <tr>\n",
       "      <th>69</th>\n",
       "      <td>Julia Roberts</td>\n",
       "      <td>7.307013e+08</td>\n",
       "      <td>F</td>\n",
       "    </tr>\n",
       "    <tr>\n",
       "      <th>72</th>\n",
       "      <td>Nicole Kidman</td>\n",
       "      <td>6.776717e+08</td>\n",
       "      <td>F</td>\n",
       "    </tr>\n",
       "    <tr>\n",
       "      <th>79</th>\n",
       "      <td>Jennifer Lopez</td>\n",
       "      <td>6.421498e+08</td>\n",
       "      <td>F</td>\n",
       "    </tr>\n",
       "    <tr>\n",
       "      <th>80</th>\n",
       "      <td>Naomi Watts</td>\n",
       "      <td>6.419406e+08</td>\n",
       "      <td>F</td>\n",
       "    </tr>\n",
       "    <tr>\n",
       "      <th>86</th>\n",
       "      <td>Felicity Jones</td>\n",
       "      <td>5.992503e+08</td>\n",
       "      <td>F</td>\n",
       "    </tr>\n",
       "    <tr>\n",
       "      <th>97</th>\n",
       "      <td>Amy Poehler</td>\n",
       "      <td>5.575084e+08</td>\n",
       "      <td>F</td>\n",
       "    </tr>\n",
       "  </tbody>\n",
       "</table>\n",
       "</div>"
      ],
      "text/plain": [
       "             actors_1  gross_profit gender\n",
       "8      Sandra Bullock  2.169103e+09      F\n",
       "30  Jennifer Lawrence  1.427987e+09      F\n",
       "38    Kristen Stewart  1.182177e+09      F\n",
       "43       Kristen Bell  1.042916e+09      F\n",
       "44  Reese Witherspoon  1.030070e+09      F\n",
       "52     Angelina Jolie  9.184811e+08      F\n",
       "59       Cameron Diaz  8.216388e+08      F\n",
       "66      Anna Kendrick  7.499680e+08      F\n",
       "68       Meryl Streep  7.432783e+08      F\n",
       "69      Julia Roberts  7.307013e+08      F\n",
       "72      Nicole Kidman  6.776717e+08      F\n",
       "79     Jennifer Lopez  6.421498e+08      F\n",
       "80        Naomi Watts  6.419406e+08      F\n",
       "86     Felicity Jones  5.992503e+08      F\n",
       "97        Amy Poehler  5.575084e+08      F"
      ]
     },
     "execution_count": 29,
     "metadata": {},
     "output_type": "execute_result"
    }
   ],
   "source": [
    "actresses_df = just_actors_df_2.loc[just_actors_df_2[\"gender\"] == \"F\"]\n",
    "actresses_df"
   ]
  },
  {
   "cell_type": "code",
   "execution_count": 35,
   "id": "77b12814",
   "metadata": {},
   "outputs": [
    {
     "data": {
      "text/plain": [
       "actors_1\n",
       "Sandra Bullock       2.169103e+09\n",
       "Jennifer Lawrence    1.427987e+09\n",
       "Kristen Stewart      1.182177e+09\n",
       "Kristen Bell         1.042916e+09\n",
       "Reese Witherspoon    1.030070e+09\n",
       "Name: gross_profit, dtype: float64"
      ]
     },
     "execution_count": 35,
     "metadata": {},
     "output_type": "execute_result"
    }
   ],
   "source": [
    "top_actresses = actresses_df.groupby(by=\"actors_1\")\n",
    "sorted_top_actresses = top_actresses[\"gross_profit\"].sum().sort_values(ascending = False)\n",
    "sorted_top_actresses.head()"
   ]
  },
  {
   "cell_type": "code",
   "execution_count": 36,
   "id": "9faca00a",
   "metadata": {},
   "outputs": [
    {
     "data": {
      "image/png": "[encoded data removed]",
      "text/plain": [
       "<Figure size 432x288 with 1 Axes>"
      ]
     },
     "metadata": {
      "needs_background": "light"
     },
     "output_type": "display_data"
    }
   ],
   "source": [
    "x_axis = sorted_top_actresses.index[:10]\n",
    "y_axis = sorted_top_actresses.values[:10]\n",
    "plt.xticks(rotation=90)\n",
    "plt.bar(x_axis, y_axis)\n",
    "plt.xlabel(\"Top 10 Actresses\")\n",
    "plt.ylabel(\"Gross Profit Inflation Adjusted\")\n",
    "plt.title(\"Top 10 Actresses vs. Gross Profit Inflation Adjusted\")\n",
    "plt.show()"
   ]
  },
  {
   "cell_type": "code",
   "execution_count": null,
   "id": "b795931f",
   "metadata": {},
   "outputs": [],
   "source": []
  }
 ],
 "metadata": {
  "kernelspec": {
   "display_name": "PythonData",
   "language": "python",
   "name": "pythondata"
  },
  "language_info": {
   "codemirror_mode": {
    "name": "ipython",
    "version": 3
   },
   "file_extension": ".py",
   "mimetype": "text/x-python",
   "name": "python",
   "nbconvert_exporter": "python",
   "pygments_lexer": "ipython3",
   "version": "3.7.7"
  }
 },
 "nbformat": 4,
 "nbformat_minor": 5
}
